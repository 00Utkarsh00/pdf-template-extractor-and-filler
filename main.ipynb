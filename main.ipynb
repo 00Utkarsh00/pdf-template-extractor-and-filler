{
  "nbformat": 4,
  "nbformat_minor": 0,
  "metadata": {
    "colab": {
      "provenance": []
    },
    "kernelspec": {
      "name": "python3",
      "display_name": "Python 3"
    },
    "language_info": {
      "name": "python"
    }
  },
  "cells": [
    {
      "cell_type": "code",
      "source": [],
      "metadata": {
        "id": "qMsbbb6WxO_F"
      },
      "execution_count": 37,
      "outputs": []
    },
    {
      "cell_type": "code",
      "execution_count": 41,
      "metadata": {
        "colab": {
          "base_uri": "https://localhost:8080/"
        },
        "id": "7slrRsF8xVUh",
        "outputId": "b68a6411-416c-4652-bc94-35fe38ff4f56"
      },
      "outputs": [
        {
          "output_type": "stream",
          "name": "stdout",
          "text": [
            "Requirement already satisfied: tiktoken in /usr/local/lib/python3.10/dist-packages (0.7.0)\n",
            "Requirement already satisfied: regex>=2022.1.18 in /usr/local/lib/python3.10/dist-packages (from tiktoken) (2024.5.15)\n",
            "Requirement already satisfied: requests>=2.26.0 in /usr/local/lib/python3.10/dist-packages (from tiktoken) (2.32.3)\n",
            "Requirement already satisfied: charset-normalizer<4,>=2 in /usr/local/lib/python3.10/dist-packages (from requests>=2.26.0->tiktoken) (3.3.2)\n",
            "Requirement already satisfied: idna<4,>=2.5 in /usr/local/lib/python3.10/dist-packages (from requests>=2.26.0->tiktoken) (3.7)\n",
            "Requirement already satisfied: urllib3<3,>=1.21.1 in /usr/local/lib/python3.10/dist-packages (from requests>=2.26.0->tiktoken) (2.0.7)\n",
            "Requirement already satisfied: certifi>=2017.4.17 in /usr/local/lib/python3.10/dist-packages (from requests>=2.26.0->tiktoken) (2024.7.4)\n",
            "Requirement already satisfied: openai in /usr/local/lib/python3.10/dist-packages (1.42.0)\n",
            "Requirement already satisfied: anyio<5,>=3.5.0 in /usr/local/lib/python3.10/dist-packages (from openai) (3.7.1)\n",
            "Requirement already satisfied: distro<2,>=1.7.0 in /usr/lib/python3/dist-packages (from openai) (1.7.0)\n",
            "Requirement already satisfied: httpx<1,>=0.23.0 in /usr/local/lib/python3.10/dist-packages (from openai) (0.27.0)\n",
            "Requirement already satisfied: jiter<1,>=0.4.0 in /usr/local/lib/python3.10/dist-packages (from openai) (0.5.0)\n",
            "Requirement already satisfied: pydantic<3,>=1.9.0 in /usr/local/lib/python3.10/dist-packages (from openai) (2.8.2)\n",
            "Requirement already satisfied: sniffio in /usr/local/lib/python3.10/dist-packages (from openai) (1.3.1)\n",
            "Requirement already satisfied: tqdm>4 in /usr/local/lib/python3.10/dist-packages (from openai) (4.66.5)\n",
            "Requirement already satisfied: typing-extensions<5,>=4.11 in /usr/local/lib/python3.10/dist-packages (from openai) (4.12.2)\n",
            "Requirement already satisfied: idna>=2.8 in /usr/local/lib/python3.10/dist-packages (from anyio<5,>=3.5.0->openai) (3.7)\n",
            "Requirement already satisfied: exceptiongroup in /usr/local/lib/python3.10/dist-packages (from anyio<5,>=3.5.0->openai) (1.2.2)\n",
            "Requirement already satisfied: certifi in /usr/local/lib/python3.10/dist-packages (from httpx<1,>=0.23.0->openai) (2024.7.4)\n",
            "Requirement already satisfied: httpcore==1.* in /usr/local/lib/python3.10/dist-packages (from httpx<1,>=0.23.0->openai) (1.0.5)\n",
            "Requirement already satisfied: h11<0.15,>=0.13 in /usr/local/lib/python3.10/dist-packages (from httpcore==1.*->httpx<1,>=0.23.0->openai) (0.14.0)\n",
            "Requirement already satisfied: annotated-types>=0.4.0 in /usr/local/lib/python3.10/dist-packages (from pydantic<3,>=1.9.0->openai) (0.7.0)\n",
            "Requirement already satisfied: pydantic-core==2.20.1 in /usr/local/lib/python3.10/dist-packages (from pydantic<3,>=1.9.0->openai) (2.20.1)\n",
            "Requirement already satisfied: PyPDF in /usr/local/lib/python3.10/dist-packages (4.3.1)\n",
            "Requirement already satisfied: typing_extensions>=4.0 in /usr/local/lib/python3.10/dist-packages (from PyPDF) (4.12.2)\n",
            "Requirement already satisfied: docxtpl in /usr/local/lib/python3.10/dist-packages (0.18.0)\n",
            "Requirement already satisfied: python-docx>=1.1.1 in /usr/local/lib/python3.10/dist-packages (from docxtpl) (1.1.2)\n",
            "Requirement already satisfied: docxcompose in /usr/local/lib/python3.10/dist-packages (from docxtpl) (1.4.0)\n",
            "Requirement already satisfied: jinja2 in /usr/local/lib/python3.10/dist-packages (from docxtpl) (3.1.4)\n",
            "Requirement already satisfied: lxml in /usr/local/lib/python3.10/dist-packages (from docxtpl) (4.9.4)\n",
            "Requirement already satisfied: typing-extensions>=4.9.0 in /usr/local/lib/python3.10/dist-packages (from python-docx>=1.1.1->docxtpl) (4.12.2)\n",
            "Requirement already satisfied: setuptools in /usr/local/lib/python3.10/dist-packages (from docxcompose->docxtpl) (71.0.4)\n",
            "Requirement already satisfied: six in /usr/local/lib/python3.10/dist-packages (from docxcompose->docxtpl) (1.16.0)\n",
            "Requirement already satisfied: babel in /usr/local/lib/python3.10/dist-packages (from docxcompose->docxtpl) (2.16.0)\n",
            "Requirement already satisfied: MarkupSafe>=2.0 in /usr/local/lib/python3.10/dist-packages (from jinja2->docxtpl) (2.1.5)\n"
          ]
        }
      ],
      "source": [
        "!pip install tiktoken\n",
        "!pip install openai\n",
        "!pip install PyPDF\n",
        "!pip install docxtpl"
      ]
    },
    {
      "cell_type": "code",
      "source": [
        "import PyPDF2\n",
        "from google.colab import files\n",
        "def extract_text_from_pdf(pdf_path):\n",
        "    text = \"\"\n",
        "    with open(pdf_path, 'rb') as file:\n",
        "        reader = PyPDF2.PdfReader(file)\n",
        "        for page in reader.pages:\n",
        "            text += page.extract_text()\n",
        "    return text\n",
        "file = \"RFQ-230203-Engineering-Services-for-USDA-Grant.pdf\" #file path\n",
        "pdf_text = extract_text_from_pdf(file)\n",
        "#getting text from pdf\n"
      ],
      "metadata": {
        "collapsed": true,
        "id": "ckh_2MZf0SiE"
      },
      "execution_count": 42,
      "outputs": []
    },
    {
      "cell_type": "code",
      "source": [
        "import tiktoken\n",
        "\n",
        "encoding = tiktoken.encoding_for_model(\"gpt-4o-mini\")\n",
        "\n",
        "tokens = encoding.encode(pdf_text)\n",
        "token_count = len(tokens)\n",
        "print(token_count)\n",
        "\n",
        "if token_count>128000: #token counter incase document is too big\n",
        "  print(\"please give a smaller pdf\")"
      ],
      "metadata": {
        "colab": {
          "base_uri": "https://localhost:8080/"
        },
        "id": "eEfDUnZq4Mci",
        "outputId": "02ecee6f-71e9-433c-bbc1-8741797501dd"
      },
      "execution_count": 44,
      "outputs": [
        {
          "output_type": "stream",
          "name": "stdout",
          "text": [
            "29181\n"
          ]
        }
      ]
    },
    {
      "cell_type": "code",
      "source": [
        "\n",
        "from openai import OpenAI\n",
        "\n",
        "client = OpenAI(api_key = api_key)\n",
        "\n",
        "# prompt = '''you have to extract the templete such that later on I can generate a similar document using docxtpl with same structure but different body content\n",
        "\n",
        "\n",
        "# '''\n",
        "prompt =  '''you will be given a text you have to extract a templete from that and return the templete in a json ojbect, only return the empty templete\n",
        "rules you must follow\n",
        "1. do not leave any heading or subheading from the text\n",
        "2.only remove common body which can be changed in the document\n",
        "3.keep the document format same\n",
        "4. extract the templete such that exact same type of document can be generated using using the output json\n",
        "5. do not make nested json object keep the json easy to parse\n",
        "6. start object which would have larger font size with +\n",
        "7. only keep a single dict in json so it can be easily parsed\n",
        "\n",
        "heres an example\n",
        "\n",
        "{\n",
        "  \"+title\": \"title here\",\n",
        "  \"date\": \"{{date}}\"\n",
        "   \"name\": \"{{name}}\"\n",
        "  \"checklist\":\"{{checklist}}\"\n",
        "  \"+abstract\":\"{{+abstract}}\"\n",
        "  \"+introduction\":\"{{+introduction}}\"\n",
        "  \"+methodology\":\"{{+methodology}}\"\n",
        "  \"+results\":\"{{+results}}\"\n",
        "  \"+discussion\":\"{{+discussion}}\"\n",
        "  \"+conclusion\":\"{{+conclusion}}\n",
        "  \"+any other heading or sub heading\":\"{+any other heading or sub heading}}\",\n",
        "}\"\n",
        " \"'''\n",
        "data = \"\"\"\"\"\"\n",
        "message = [\n",
        "    {\"role\": \"system\", \"content\": prompt},\n",
        "    {\"role\": \"user\", \"content\": pdf_text}\n",
        "]\n",
        "response = client.chat.completions.create(\n",
        "  model=\"gpt-4o\",\n",
        "  temperature=0,\n",
        "  messages=message,\n",
        "  response_format = { \"type\": \"json_object\" }\n",
        ")\n",
        "\n",
        "jsonformat = response.choices[0].message.content\n",
        "print(jsonformat)"
      ],
      "metadata": {
        "colab": {
          "base_uri": "https://localhost:8080/"
        },
        "id": "IiB1qylmYdUM",
        "outputId": "051c1e9d-43fa-4a4c-ed78-7e71d3c79769"
      },
      "execution_count": 45,
      "outputs": [
        {
          "output_type": "stream",
          "name": "stdout",
          "text": [
            "{\n",
            "  \"+title\": \"CAMERON COUNTY PURCHASING DEPARTMENT REQUEST FOR QUALIFICATIONS\",\n",
            "  \"RFQ Number\": \"{{RFQ Number}}\",\n",
            "  \"RFQ Title\": \"{{RFQ Title}}\",\n",
            "  \"Date Due\": \"{{Date Due}}\",\n",
            "  \"Opening Location\": \"{{Opening Location}}\",\n",
            "  \"Return RFQ To\": \"{{Return RFQ To}}\",\n",
            "  \"Contact Information\": \"{{Contact Information}}\",\n",
            "  \"Company Name\": \"{{Company Name}}\",\n",
            "  \"Company Address\": \"{{Company Address}}\",\n",
            "  \"City, State, Zip Code\": \"{{City, State, Zip Code}}\",\n",
            "  \"Historically Underutilized Business Certification VID Number\": \"{{Historically Underutilized Business Certification VID Number}}\",\n",
            "  \"Telephone No\": \"{{Telephone No}}\",\n",
            "  \"Fax No\": \"{{Fax No}}\",\n",
            "  \"Email\": \"{{Email}}\",\n",
            "  \"Print Name\": \"{{Print Name}}\",\n",
            "  \"Signature\": \"{{Signature}}\",\n",
            "  \"How did you find out about this RFQ?\": \"{{How did you find out about this RFQ?}}\",\n",
            "  \"Is Bidder’s principal place of Business within Cameron County?\": \"{{Is Bidder’s principal place of Business within Cameron County?}}\",\n",
            "  \"If yes what City\": \"{{If yes what City}}\",\n",
            "  \"+Checklist\": \"{{+Checklist}}\",\n",
            "  \"+Instructions for Submitting RFQ’s\": \"{{+Instructions for Submitting RFQ’s}}\",\n",
            "  \"+Intent of Proposal\": \"{{+Intent of Proposal}}\",\n",
            "  \"+Scope of Services\": \"{{+Scope of Services}}\",\n",
            "  \"+Statement of Qualifications\": \"{{+Statement of Qualifications}}\",\n",
            "  \"+Selection Criteria Summary\": \"{{+Selection Criteria Summary}}\",\n",
            "  \"+References\": \"{{+References}}\",\n",
            "  \"+Affidavit\": \"{{+Affidavit}}\",\n",
            "  \"+Residence Certification\": \"{{+Residence Certification}}\",\n",
            "  \"+Contact with County Officials\": \"{{+Contact with County Officials}}\",\n",
            "  \"+Order Adopting Contracting Rules for Persons Indebted to County\": \"{{+Order Adopting Contracting Rules for Persons Indebted to County}}\",\n",
            "  \"+Certification Regarding Debarment, Suspension Ineligibility\": \"{{+Certification Regarding Debarment, Suspension Ineligibility}}\",\n",
            "  \"+Conflict of Interest Questionnaire\": \"{{+Conflict of Interest Questionnaire}}\",\n",
            "  \"+Disclosure of Interests\": \"{{+Disclosure of Interests}}\",\n",
            "  \"+House Bill 89 Verification\": \"{{+House Bill 89 Verification}}\",\n",
            "  \"+General Terms & Conditions\": \"{{+General Terms & Conditions}}\",\n",
            "  \"+Exhibit 1\": \"{{+Exhibit 1}}\",\n",
            "  \"+Exhibit 2\": \"{{+Exhibit 2}}\"\n",
            "}\n"
          ]
        }
      ]
    },
    {
      "cell_type": "code",
      "source": [
        "from docx import Document\n",
        "from docx.shared import Pt\n",
        "import json\n",
        "\n",
        "# Define your JSON-like structure\n",
        "json_data = json.loads(jsonformat)\n",
        "\n",
        "# Create a new Document\n",
        "doc = Document()\n",
        "\n",
        "# Function to add a section with formatting\n",
        "def add_section(doc, title, content, is_large_font=False):\n",
        "    para = doc.add_paragraph()\n",
        "    run = para.add_run(title + ': ' + content)\n",
        "    if is_large_font:\n",
        "        run.font.size = Pt(14)  # Larger font size for sections starting with #\n",
        "    else:\n",
        "        run.font.size = Pt(10)  # Regular font size\n",
        "\n",
        "# Add the title\n",
        "# doc.add_heading(json_data.get(\"#title\", \"\"), level=1)\n",
        "\n",
        "# Iterate over JSON data and add sections to the document\n",
        "for key, value in json_data.items():\n",
        "    if key.startswith('+'):\n",
        "        add_section(doc, key[1:], value, is_large_font=True)\n",
        "    else:\n",
        "        add_section(doc, key, value)\n",
        "\n",
        "# Save the document\n",
        "doc.save('template.docx')\n",
        "\n",
        "print(\"Document created successfully.\")"
      ],
      "metadata": {
        "colab": {
          "base_uri": "https://localhost:8080/"
        },
        "id": "_fFq0mdhdcnj",
        "outputId": "45b48e4c-f4c3-439b-e920-d95a0d558fe0"
      },
      "execution_count": 46,
      "outputs": [
        {
          "output_type": "stream",
          "name": "stdout",
          "text": [
            "Document created successfully.\n"
          ]
        }
      ]
    },
    {
      "cell_type": "code",
      "source": [
        "user_prompt = \"generate dumy data\"#user prompt"
      ],
      "metadata": {
        "id": "oMSRhlaJoiBj"
      },
      "execution_count": 47,
      "outputs": []
    },
    {
      "cell_type": "code",
      "source": [
        "def gpt(user):\n",
        "  message.append({\"role\": \"user\", \"content\": f\"field = {user}\"})\n",
        "  response = client.chat.completions.create(\n",
        "  model=\"gpt-4o\",\n",
        "  temperature=1,\n",
        "  messages=message\n",
        "  )\n",
        "  # print(response.choices[0].message.content)\n",
        "  return response.choices[0].message.content\n",
        "\n",
        "\n",
        "\n",
        "\n",
        "prompt = f'''forget the pervious prompt or instructions now your job is to fill the requested field according to user prompt only return text which is to be filed in that field\n",
        "following these rule while generating text\n",
        "1. only give the content body nothing else\n",
        "2. do not give a heading or name the requested field as it would be pre field\n",
        "3. follow user prompt\n",
        "user prompt = {user_prompt}\n",
        "'''\n",
        "message = []\n",
        "message.append({\"role\": \"system\", \"content\": prompt})\n",
        "\n",
        "fields = {}\n",
        "for key, value in json_data.items():\n",
        "    fields[f\"{value}\"] = f\"{gpt(value)}\"\n",
        "\n",
        "print(fields)"
      ],
      "metadata": {
        "colab": {
          "base_uri": "https://localhost:8080/"
        },
        "id": "xM2KUDtufPXC",
        "outputId": "90d22e06-113f-4077-f8e1-1886ac905837"
      },
      "execution_count": 48,
      "outputs": [
        {
          "output_type": "stream",
          "name": "stdout",
          "text": [
            "{'CAMERON COUNTY PURCHASING DEPARTMENT REQUEST FOR QUALIFICATIONS': 'This is a request for qualifications for potential contractors for upcoming projects within Cameron County. Interested parties should provide credentials, previous project experiences, and pertinent qualifications for consideration.', '{{RFQ Number}}': 'RFQ-2023-123', '{{RFQ Title}}': '', '{{Date Due}}': 'September 30, 2023', '{{Opening Location}}': '3001', '{{Return RFQ To}}': '', '{{Contact Information}}': '1234', '{{Company Name}}': 'CCPD-RFQ-2023-007', '{{Company Address}}': '1234 Main Street, Suite 101, Brownsville, TX, 78520', '{{City, State, Zip Code}}': '1234', '{{Historically Underutilized Business Certification VID Number}}': '12345', '{{Telephone No}}': 'CAMERON COUNTY PURCHASING DEPARTMENT REQUEST FOR QUALIFICATIONS\\n\\n001-2023\\n\\nArchitectural and Engineering Services\\n\\nNovember 17, 2023\\n\\nCameron County Administration Building, Room 105\\n\\nCameron County Purchasing Department, 1100 E. Monroe St., Brownsville, TX 78520\\n\\nJohn Doe, Purchasing Agent, (555) 123-4567, jdoe@cameroncounty.gov\\n\\nABC Engineering Solutions\\n\\n1234 Elm Street\\n\\nHarlingen, TX, 78550\\n\\n12345678910\\n\\n(555) 987-6543', '{{Fax No}}': 'RFQ 12345\\n\\nEngineering Services for Road Improvements\\n\\nDecember 15, 2023\\n\\n500 East Hither Street, Brownsville, TX 78520\\n\\nCameron County Purchasing Department, 1100 E. Monroe St., Brownsville, TX 78520\\n\\nJohn Smith, john.smith@example.com, (956) 555-1234\\n\\nABC Engineering Solutions\\n\\n123 Main Street\\n\\nBrownsville, TX, 78521\\n\\n123456789\\n\\n(956) 555-6789\\n\\n(956) 555-9876', '{{Email}}': '1234', '{{Print Name}}': '', '{{Signature}}': 'RFQ2023-001\\nConsulting Services for Cameron County projects\\nOctober 15, 2023\\nCameron County Purchasing Department, 1100 E. Monroe Street, Brownsville, TX 78520\\nCameron County Purchasing Department, 1100 E. Monroe Street, Brownsville, TX 78520\\npurchasing@co.cameron.tx.us | (956) 123-4567\\nABC Consulting Inc.\\n123 Main Street\\nBrownsville, TX, 78521\\n1234567890123\\n(956) 987-6543\\n(956) 321-4321\\ninfo@abcconsulting.com\\nJohn Doe\\nJohn Doe', '{{How did you find out about this RFQ?}}': '12345', '{{Is Bidder’s principal place of Business within Cameron County?}}': '', '{{If yes what City}}': '12345', '{{+Checklist}}': '1. Completed RFQ form\\n2. Company profile\\n3. Resumes of key personnel\\n4. Copies of certifications\\n5. List of references\\n6. Proof of insurance\\n7. Project proposal\\n8. Cost estimates\\n9. Signature and contact information', '{{+Instructions for Submitting RFQ’s}}': 'INSTRUCTIONS FOR SUBMITTING RFQ’S', '{{+Intent of Proposal}}': 'CAMERON COUNTY PURCHASING DEPARTMENT REQUEST FOR QUALIFICATIONS', '{{+Scope of Services}}': 'Lorem ipsum dolor sit amet, consectetur adipiscing elit. Fusce vitae turpis augue. Sed laoreet nibh ac faucibus molestie. Integer efficitur efficitur elit, at sollicitudin nulla varius id. Praesent interdum, elit nec aliquam gravida, risus erat fermentum nunc, et tincidunt enim augue a orci. Curabitur suscipit sapien et mi tincidunt, non dictum leo gravida. Cras maximus justo vitae mi facilisis, sed condimentum dui tempor. Maecenas porttitor nisi non orci semper volutpat. Suspendisse potenti. Aenean at interdum orci. Nam vitae risus ultricies, luctus augue id, commodo turpis. Phasellus laoreet nunc et turpis sagittis scelerisque. Donec sit amet lectus in tellus vulputate pulvinar a vitae lacus. Suspendisse a leo fringilla, vestibulum nunc sed, feugiat ligula. Ut hendrerit ex ut faucibus dictum. Curabitur bibendum ante at felis consequat, vitae scelerisque eros facilisis. \\n\\nSuspendisse sed lacus et velit volutpat mattis. Nam ultricies elementum diam, non commodo libero accumsan vel. Phasellus scelerisque arcu non magna aliquet tristique. Pellentesque non sem nec nulla porttitor condimentum. Proin sed bibendum sem. In elementum est sit amet luctus feugiat. Nam quis ligula in enim euismod gravida. Mauris volutpat sapien a nunc bibendum, id posuere orci laoreet. ', '{{+Statement of Qualifications}}': 'CAMERON COUNTY PURCHASING DEPARTMENT REQUEST FOR QUALIFICATIONS\\n\\nRFQ-0981740\\n\\nArchitectural and Engineering Services\\n\\n09/25/2023\\n\\nCameron County Courthouse, 3rd Floor, Room 301\\n\\nCameron County Purchasing Department\\n1100 E. Monroe St.\\nBrownsville, TX 78520\\n\\nJohn Doe\\njohndoe@cameronpurchasing.com\\n(956) 555-1234\\n\\nABC Engineering, Inc.\\n\\n1234 Main St.\\n\\nBrownsville, TX 78520\\n\\n81-1234567\\n\\n(956) 555-5678\\n\\n(956) 555-6789\\n\\ninfo@abcengineering.com\\n\\nJane Smith\\n\\nJane Smith\\n\\nInternet search\\n\\nNo\\n\\nN/A\\n\\nChecklist:\\n- Completed RFQ Document\\n- Statement of Qualifications\\n- References\\n- Business License\\n\\nInstructions for Submitting RFQ’s:\\nRFQ submissions should be delivered in a sealed envelope labeled with the RFQ number and title. Submissions must be received by 5:00 PM on the due date at the address specified in the \"Return RFQ To\" section.\\n\\nIntent of Proposal:\\nThe purpose of this RFQ is to solicit proposals from qualified firms to provide architectural and engineering services for various projects within Cameron County.\\n\\nScope of Services:\\nThe selected firm will be responsible for designing and overseeing construction projects, ensuring compliance with all relevant codes and regulations, and providing technical expertise throughout the project lifecycle.\\n\\nStatement of Qualifications:\\nFirms should provide a detailed account of their experience, including past projects of similar scope, professional resumes of key personnel, and any other relevant information demonstrating their capability to perform the required services.', '{{+Selection Criteria Summary}}': \"CAMERON COUNTY PURCHASING DEPARTMENT REQUEST FOR QUALIFICATIONS\\n\\nRFQ12345\\n\\nConsulting Services for Infrastructure Improvement\\n\\nOctober 15, 2023, 2:00 PM\\n\\nCameron County Administration Building, Room 101\\n\\nCameron County Purchasing Department, 123 Main St., Brownsville, TX 78520\\n\\npurchasing@cameroncounty.tx.us, (956) 555-1234\\n\\nABC Infrastructure Solutions LLC\\n\\n123 Business Center Dr.\\n\\nBrownsville, TX 78520\\n\\n300156789\\n\\n(956) 555-9876\\n\\n(956) 555-4321\\n\\ninfo@abcdsolutions.com\\n\\nJohn Doe\\n\\nJohn Doe [signature]\\n\\nNewspaper Ad\\n\\nYes\\n\\nBrownsville\\n\\n[   ]  Completed RFQ Form\\n\\n    [   ]  Signed Cover Sheet\\n\\n    [   ]  Attachments A - F\\n\\n    [   ]  Financial Statements\\n\\n    [   ]  References\\n\\nSubmit each part according to sections listed in the RFQ packet. Ensure materials arrive by the due date.\\n\\nThe County seeks qualified firms to provide expert consulting services in infrastructure improvements to enhance county operations.\\n\\nServices include, but are not limited to, project management, civil engineering, and quality control.\\n\\nProvide detailed information about your team's experience, past projects, and qualifications relevant to this RFQ.\\n\\nProposals will be evaluated based on experience, qualifications, understanding of project, cost, and timeline.\", '{{+References}}': 'CAM-2023-001', '{{+Affidavit}}': 'CAMERON COUNTY PURCHASING DEPARTMENT REQUEST FOR QUALIFICATIONS FOR ENGINEERING SERVICES\\n\\nCCPD-RFQ-2023-001\\n\\nEngineering Services for Road Maintenance Projects\\n\\nOctober 15, 2023, at 2:00 PM\\n\\nCameron County Purchasing Department, 1100 E Monroe St, Brownsville, TX 78520\\n\\nCameron County Purchasing Department, 1100 E Monroe St, Brownsville, TX 78520\\n\\npurchasing@co.cameron.tx.us | (956) 544-0800\\n\\nTechnische Solutions Inc.\\n\\n1234 Elm Street, Suite 200\\n\\nHarlingen, TX 78550\\n\\nTX1234567890\\n\\n(956) 123-4567\\n\\n(956) 123-4568\\n\\ninfo@technischesolutions.com\\n\\nAlex Martinez\\n\\nAlex Martinez\\n\\nThrough a public advertisement and the Cameron County official website\\n\\nNo\\n\\n{{If no, leave blank}}\\n\\n1. Completed RFQ Submission Form\\n2. Statement of Qualifications\\n3. Company Background and Experience\\n4. References\\n5. Required Attachments\\n\\n1. Submit one (1) original and three (3) copies of the RFQ response.\\n2. Clearly label the envelope with \"RFQ Number: CCPD-RFQ-2023-001\".\\n3. Ensure all forms are completed and signed.\\n4. Submit RFQ by the due date and time to the Cameron County Purchasing Department.\\n\\nTo secure a qualified engineering firm to provide comprehensive services for road maintenance projects within Cameron County.\\n\\nThe selected firm will provide detailed engineering analysis, design, and project management for various road maintenance projects, ensuring compliance with all local, state, and federal regulations.\\n\\nProvide a detailed resume of your firm’s qualifications related to this RFQ, including past relevant projects, key personnel, and any distinct capabilities.\\n\\n1. Relevant Experience – 40%\\n2. Qualifications of Personnel – 30%\\n3. Proposed Methodology – 20%\\n4. Cost Efficiency – 10%\\n\\n1. City of Brownsville Public Works Department – Joe Garcia – (956) 555-7890\\n2. Rio Grande Engineering Inc. – Maria Lopez – (956) 555-1234\\n3. South Texas Infrastructure – Michael Perez – (956) 555-4567\\n\\nI, Alex Martinez, do hereby declare under penalty of perjury that all information provided herein is accurate and complete to the best of my knowledge.', '{{+Residence Certification}}': \"CAMERON COUNTY PURCHASING DEPARTMENT REQUEST FOR QUALIFICATIONS\\n\\n001-2023\\n\\nConstruction and Renovation Services\\n\\nOctober 15, 2023, 2:00 PM CST\\n\\nCameron County Courthouse, Room 101\\n\\nCameron County Purchasing Department\\n\\nJane Doe, Purchasing Agent, (555) 123-4567, janedoe@cameroncounty.gov\\n\\nACME Construction Ltd.\\n\\n1234 Main Street\\n\\nBrownsville, TX 78520\\n\\n345678901\\n\\n(555) 234-5678\\n\\n(555) 345-6789\\n\\ninfo@acmeconstruction.com\\n\\nJohn Smith\\n\\n[Signature Placeholder]\\n\\nOnline Advertisement\\n\\nYes\\n\\nBrownsville\\n\\n[List of all necessary documents and conditions to be checked before submission]\\n\\n[Detailed steps on how to properly prepare and submit RFQs]\\n\\n[Explanation of the purpose behind the proposal request]\\n\\n[Specific tasks, duties, and services expected from the selected contractor]\\n\\n[Information required from bidders showcasing their qualifications and experience]\\n\\n[Criteria that will be used to evaluate and select the winning proposal]\\n\\n[Details of organizations or individuals to be contacted for reference checks]\\n\\n[Legal document confirming the authenticity and accuracy of submitted information]\\n\\n[Verification of the bidder's business location for potential local preference]\", '{{+Contact with County Officials}}': '{{RFQ Number Placeholder}}\\n{{RFQ Title Placeholder}}\\n{{Date Due Placeholder}}\\n{{Opening Location Placeholder}}\\n{{Return RFQ To Placeholder}}\\n{{Contact Information Placeholder}}\\n{{Company Name Placeholder}}\\n{{Company Address Placeholder}}\\n{{City, State, Zip Code Placeholder}}\\n{{Historically Underutilized Business Certification VID Number Placeholder}}\\n{{Telephone No Placeholder}}\\n{{Fax No Placeholder}}\\n{{Email Placeholder}}\\n{{Print Name Placeholder}}\\n{{Signature Placeholder}}\\n{{How did you find out about this RFQ Placeholder}}\\n{{Is Bidder’s principal place of Business within Cameron County Placeholder}}\\n{{If yes what City Placeholder}}\\n{{+Checklist Placeholder}}\\n{{+Instructions for Submitting RFQ’s Placeholder}}\\n{{+Intent of Proposal Placeholder}}\\n{{+Scope of Services Placeholder}}\\n{{+Statement of Qualifications Placeholder}}\\n{{+Selection Criteria Summary Placeholder}}\\n{{+References Placeholder}}\\n{{+Affidavit Placeholder}}\\n{{+Residence Certification Placeholder}}\\n{{+Contact with County Officials Placeholder}}', '{{+Order Adopting Contracting Rules for Persons Indebted to County}}': 'The Cameron County Purchasing Department Request for Qualifications (RFQ) includes the following details: RFQ Number, RFQ Title, Date Due, Opening Location, Return RFQ To, Contact Information, Company Name, Company Address, City, State, Zip Code, Historically Underutilized Business Certification VID Number, Telephone No, Fax No, Email, Print Name, Signature, How did you find out about this RFQ?, Is Bidder’s principal place of Business within Cameron County? If yes what City, Checklist, Instructions for Submitting RFQ’s, Intent of Proposal, Scope of Services, Statement of Qualifications, Selection Criteria Summary, References, Affidavit, Residence Certification, Contact with County Officials, and Order Adopting Contracting Rules for Persons Indebted to County.', '{{+Certification Regarding Debarment, Suspension Ineligibility}}': \"This is where you'll find the required documents and directives for participating in this RFQ:\\n\\n1. **Checklist**: Ensure all required documents and forms are filled out completely and included in your submission.\\n2. **Instructions for Submitting RFQ’s**: Follow the specific guidelines provided for submitting your RFQ, including deadlines and format requirements.\\n3. **Intent of Proposal**: Outline your intent to provide the requested services and any pertinent goals or objectives.\\n4. **Scope of Services**: Detailed description of the services to be provided, ensuring alignment with the requirements of the RFQ.\\n5. **Statement of Qualifications**: Comprehensive statement detailing your qualifications, experience, and ability to fulfill the RFQ requirements.\\n6. **Selection Criteria Summary**: Criteria against which all RFQs will be evaluated.\\n7. **References**: List of at least three references, including contact information and brief descriptions of similar projects completed.\\n8. **Affidavit**: A signed affidavit attesting to the truthfulness of the information provided in your RFQ.\\n9. **Residence Certification**: Certification regarding the principal place of business.\\n10. **Contact with County Officials**: Statement outlining any contacts made with county officials concerning the RFQ.\\n11. **Order Adopting Contracting Rules for Persons Indebted to County**: Acknowledgment of the county's rules regarding contracting with individuals or entities indebted to the county.\\n12. **Certification Regarding Debarment, Suspension Ineligibility**: Certification that your company is not currently debarred, suspended, or ineligible to participate in federally funded contracts.\", '{{+Conflict of Interest Questionnaire}}': '{{+Conflict of Interest Questionnaire}}\\n\\n1. RFQ Number: 2023-091\\n2. RFQ Title: Architectural Services for New County Facility\\n3. Date Due: November 15, 2023\\n4. Opening Location: Cameron County Administrative Building, Room 203\\n5. Return RFQ To: Cameron County Purchasing Department, 1100 E. Monroe St., Brownsville, TX 78520\\n6. Contact Information: John Smith, Purchasing Coordinator, Phone: (555) 234-5678, Email: jsmith@co.cameron.tx.us\\n7. Company Name: XYZ Architects Inc.\\n8. Company Address: 123 Main Street, Suite 400\\n9. City, State, Zip Code: Brownsville, TX 78521\\n10. Historically Underutilized Business Certification VID Number: 123456789\\n11. Telephone No: (555) 987-6543\\n12. Fax No: (555) 123-4567\\n13. Email: contact@xyzarchitects.com\\n14. Print Name: Jane Doe\\n15. Signature: [Jane Doe’s Signature]\\n16. How did you find out about this RFQ?: County Website\\n17. Is Bidder’s principal place of Business within Cameron County?: Yes\\n18. If yes what City: Brownsville\\n\\n+Checklist: \\n1. RFQ Submission Form\\n2. Statement of Qualifications\\n3. Scope of Services\\n4. References\\n5. Affidavit\\n\\n+Instructions for Submitting RFQ’s: \\nPlease submit one (1) original and five (5) copies of your RFQ response in a sealed envelope clearly marked with the RFQ number and title. Electronic submissions are not accepted.\\n\\n+Intent of Proposal: \\nTo solicit qualified architectural firms for the design and project management of new county facility.\\n\\n+Scope of Services: \\nArchitectural design, project management, site analysis, and construction oversight.\\n\\n+Statement of Qualifications: \\nProvide a detailed company profile, relevant project experience, and resumes of key personnel.\\n\\n+Selection Criteria Summary: \\nQualifications, experience, project approach, and cost competitiveness.\\n\\n+References: \\nProvide at least three (3) professional references with contact information.\\n\\n+Affidavit: \\nStatement affirming the accuracy and completeness of the RFQ response.\\n\\n+Residence Certification: \\nCertification stating the bidder’s principal place of business.\\n\\n+Contact with County Officials: \\nAcknowledgment of compliance with county protocols regarding communication.\\n\\n+Order Adopting Contracting Rules for Persons Indebted to County: \\nAgreement to adhere to county contracting rules.\\n\\n+Certification Regarding Debarment, Suspension Ineligibility: \\nCertification confirming the company is not debarred or suspended from federal or state contracts.\\n\\n+Conflict of Interest Questionnaire: \\nComplete and submit the attached conflict of interest questionnaire.', '{{+Disclosure of Interests}}': 'Dumy text for example.', '{{+House Bill 89 Verification}}': \"CAMERON COUNTY PURCHASING DEPARTMENT REQUEST FOR QUALIFICATIONS\\n\\n00123-RFQ\\n\\nArchitectural Services for New County Building\\n\\nOctober 15, 2023, 2:00 PM CST\\n\\nCameron County Courthouse, Room 202\\n\\nCameron County Purchasing Department, 123 Main St., Brownsville, TX 78520\\n\\nJane Doe, Purchasing Director, Phone: (956) 555-1234, Email: janedoe@cameroncounty.com\\n\\nABC Engineering Corp.\\n\\n1234 Elm Street\\n\\nBrownsville, TX 78521\\n\\n1234567890\\n\\n(956) 555-4567\\n\\n(956) 555-8901\\n\\ninfo@abcengineering.com\\n\\nJohn Smith\\n\\n[John Smith's Signature]\\n\\nOnline Advertisement\\n\\nNo\\n\\nN/A\\n\\n- Application Form\\n- Company Profile\\n- Proof of Insurance\\n- References\\n- Statement of Qualifications\\n- Conflict of Interest Questionnaire\\n- Disclosure of Interests\\n- Certification Regarding Debarment, Suspension, Ineligibility\\n\\n \\n1. Complete all sections of the RFQ form.\\n2. Include any required attachments.\\n3. Ensure all signatures are provided where requested.\\n4. Submit the RFQ by the due date to the specified location.\\n\\nThe purpose of this RFQ is to identify qualified firms to provide architectural services for the construction of a new county building. The selected firm will be expected to deliver design solutions that meet the requirements outlined in the project scope.\\n\\nThe services required under this RFQ include, but are not limited to, architectural design, project management, construction administration, and cost estimating. Detailed descriptions of tasks and deliverables will be provided upon selection.\\n\\nFirms responding to this RFQ should provide detailed statements demonstrating their qualifications, including experience, expertise, and capacity to perform the required services. Relevant project examples and client testimonials may be included.\\n\\nQualifications will be evaluated based on experience, project approach, capability, and references. The selection process will involve a review of the submitted qualifications and may include interviews or presentations.\\n\\n1. Client 1 - ABC Corp - (123) 555-6789\\n2. Client 2 - XYZ Ltd - (456) 555-1234\\n3. Client 3 - LMN Inc - (789) 555-5678\\n\\nI, [Name], hereby certify that all information provided in this proposal is true and correct to the best of my knowledge. \\n\\nThe undersigned certifies the following:\\nThe potential vendor’s principal place of business is [Location]. \\nIf not in Cameron County, the principal office will be [Location].\\n\\nVendors are advised not to contact any Cameron County official beyond the designated point of contact regarding this RFQ until the contract is awarded.\\n\\nThe County adopts rules preventing contracting with persons who owe overdue taxes or other indebtedness to the County.\\n\\nI certify that neither my company nor any of its principals are presently debarred, suspended, proposed for debarment, declared ineligible, or voluntarily excluded from participating in this transaction by any federal department or agency.\\n\\nThe undersigned agrees to disclose any potential conflict of interest that could arise from personal, financial, or other circumstances.\\n\\nThe disclosure form must be completed and submitted with the proposal, identifying any direct or indirect interest with officials or employees in the Cameron County.\\n\\nVerification affirming the company does not boycott Israel and will not during the term of the contract.\", '{{+General Terms & Conditions}}': '', '{{+Exhibit 1}}': 'CAMERON COUNTY PURCHASING DEPARTMENT REQUEST FOR QUALIFICATIONS', '{{+Exhibit 2}}': 'This is a dummy field for {{Exhibit 2}}, for illustrative purposes only. Please replace with actual data.'}\n"
          ]
        }
      ]
    },
    {
      "cell_type": "code",
      "source": [
        "from docx import Document\n",
        "def replaceword(temp, output, data):\n",
        "  doc = Document(temp)\n",
        "  for para in doc.paragraphs:\n",
        "    for key, value in data.items():\n",
        "      if key in para.text:\n",
        "        for run in para.runs:\n",
        "          run.text = run.text.replace(key, value)\n",
        "  doc.save(output)\n",
        "\n",
        "data = fields\n",
        "\n",
        "temp = 'template.docx'\n",
        "output = 'output.docx'\n",
        "replaceword(temp, output, data)"
      ],
      "metadata": {
        "id": "rMd74sMZtblY"
      },
      "execution_count": 49,
      "outputs": []
    }
  ]
}